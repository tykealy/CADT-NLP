{
  "cells": [
    {
      "cell_type": "markdown",
      "metadata": {
        "id": "iuBZIO88-zTR"
      },
      "source": [
        "Metacharacters in re module"
      ]
    },
    {
      "cell_type": "code",
      "execution_count": 1,
      "metadata": {
        "id": "_TrcbjD69oMR"
      },
      "outputs": [],
      "source": [
        "import re"
      ]
    },
    {
      "cell_type": "code",
      "execution_count": 44,
      "metadata": {
        "colab": {
          "base_uri": "https://localhost:8080/"
        },
        "id": "msZKbSIk-0dk",
        "outputId": "3068c6cd-17c8-43ae-8e57-f3501d9fae76"
      },
      "outputs": [
        {
          "name": "stdout",
          "output_type": "stream",
          "text": [
            "azb\n"
          ]
        }
      ],
      "source": [
        "#Matches any single character except newline (\\n). It's often used where you want to match any character.\n",
        "result = re.search(r'a.b', 'azbi')\n",
        "print(result.group())\n"
      ]
    },
    {
      "cell_type": "code",
      "execution_count": 10,
      "metadata": {
        "colab": {
          "base_uri": "https://localhost:8080/"
        },
        "id": "BMWg_saS_Xei",
        "outputId": "e9d643d1-8ba2-4709-c4d1-19d7e7736bcd"
      },
      "outputs": [
        {
          "name": "stdout",
          "output_type": "stream",
          "text": [
            "Hell\n"
          ]
        }
      ],
      "source": [
        "#Matches the start of a string.\n",
        "result = re.search(r'^Hell', 'Hell World')\n",
        "print(result.group())"
      ]
    },
    {
      "cell_type": "code",
      "execution_count": 11,
      "metadata": {
        "colab": {
          "base_uri": "https://localhost:8080/"
        },
        "id": "wx9ro34SA5Ic",
        "outputId": "b523518e-daa5-4d08-8007-ab5743ecaeae"
      },
      "outputs": [
        {
          "name": "stdout",
          "output_type": "stream",
          "text": [
            "end\n"
          ]
        }
      ],
      "source": [
        "#Matches the end of the string\n",
        "result = re.search(r'end$', 'It is the end')\n",
        "print(result.group())\n"
      ]
    },
    {
      "cell_type": "code",
      "execution_count": 51,
      "metadata": {
        "colab": {
          "base_uri": "https://localhost:8080/"
        },
        "id": "XXBml22NBU5I",
        "outputId": "320a610b-9a4b-4379-ce20-d7acb6433763"
      },
      "outputs": [
        {
          "name": "stdout",
          "output_type": "stream",
          "text": [
            "beeeddddd\n"
          ]
        }
      ],
      "source": [
        "#Matches 0 or more repetitions of the preceding regex.\n",
        "result = re.search(r'be*d*', 'A ghost beeeddddd')\n",
        "print(result.group())\n"
      ]
    },
    {
      "cell_type": "code",
      "execution_count": 53,
      "metadata": {
        "colab": {
          "base_uri": "https://localhost:8080/"
        },
        "id": "JUUn9ER3BXXm",
        "outputId": "b3694bd8-0c70-4afd-8aec-d72f02f54630"
      },
      "outputs": [
        {
          "name": "stdout",
          "output_type": "stream",
          "text": [
            "aaab\n"
          ]
        }
      ],
      "source": [
        "#Matches 1 or more repetitions of the preceding regex.\n",
        "result = re.search(r'a+b', 'caaab')\n",
        "print(result.group())\n"
      ]
    },
    {
      "cell_type": "code",
      "execution_count": 35,
      "metadata": {
        "colab": {
          "base_uri": "https://localhost:8080/"
        },
        "id": "Rtpwjd_lBZ5R",
        "outputId": "bab92ac3-f515-4d21-8024-88b257908a72"
      },
      "outputs": [
        {
          "name": "stdout",
          "output_type": "stream",
          "text": [
            "color\n"
          ]
        }
      ],
      "source": [
        "#Matches 0 or 1 repetition of the preceding regex.\n",
        "result = re.search(r'colou?r', 'The color is red')\n",
        "print(result.group())\n"
      ]
    },
    {
      "cell_type": "code",
      "execution_count": 39,
      "metadata": {
        "colab": {
          "base_uri": "https://localhost:8080/"
        },
        "id": "7pjK7JXXBe6c",
        "outputId": "a1b9c1ed-2718-4984-c1b3-aa7f8ff421c0"
      },
      "outputs": [
        {
          "name": "stdout",
          "output_type": "stream",
          "text": [
            "aa\n"
          ]
        }
      ],
      "source": [
        "#Specifies a specific number of repetitions.\n",
        "result = re.search(r'a{2}', 'caab')\n",
        "print(result.group())\n"
      ]
    },
    {
      "cell_type": "code",
      "execution_count": 55,
      "metadata": {
        "colab": {
          "base_uri": "https://localhost:8080/"
        },
        "id": "l44fZQ2tBhkw",
        "outputId": "2d67e49f-292b-4934-b8cd-6a5cbb58afec"
      },
      "outputs": [
        {
          "name": "stdout",
          "output_type": "stream",
          "text": [
            "ap\n"
          ]
        }
      ],
      "source": [
        "#Matches any one of the characters enclosed. You can also specify a range of characters using - inside square brackets.\n",
        "result = re.search(r'[abc]p', 'apple')\n",
        "print(result.group())\n"
      ]
    },
    {
      "cell_type": "code",
      "execution_count": 57,
      "metadata": {
        "colab": {
          "base_uri": "https://localhost:8080/"
        },
        "id": "t7i3eNNtBjiD",
        "outputId": "e76c088e-2e69-4618-da0a-574e87741812"
      },
      "outputs": [
        {
          "name": "stdout",
          "output_type": "stream",
          "text": [
            "ba\n"
          ]
        }
      ],
      "source": [
        "#Acts like an OR operator between two regexes.\n",
        "result = re.search(r'ba|b', 'banana')\n",
        "print(result.group())\n"
      ]
    },
    {
      "cell_type": "code",
      "execution_count": 61,
      "metadata": {
        "colab": {
          "base_uri": "https://localhost:8080/"
        },
        "id": "ZdyxvnBUBmW_",
        "outputId": "482ab1cd-8385-4bb8-ac34-2bb78807e3a0"
      },
      "outputs": [
        {
          "name": "stdout",
          "output_type": "stream",
          "text": [
            "('ca', 'b')\n"
          ]
        }
      ],
      "source": [
        "#Groups regexes and captures the text matched\n",
        "result = re.search(r'(ca)(b)', 'cab')\n",
        "print(result.groups())\n"
      ]
    },
    {
      "cell_type": "code",
      "execution_count": 62,
      "metadata": {
        "colab": {
          "base_uri": "https://localhost:8080/"
        },
        "id": "l2I1oAwiFvLx",
        "outputId": "3fdb6fa3-b432-4ef9-e1c2-a66183470672"
      },
      "outputs": [
        {
          "name": "stdout",
          "output_type": "stream",
          "text": [
            "?\n"
          ]
        }
      ],
      "source": [
        "#indicates a special sequence or reference.\n",
        "result = re.search(r'\\?', 'Room ?')\n",
        "print(result.group())\n"
      ]
    },
    {
      "cell_type": "code",
      "execution_count": 63,
      "metadata": {
        "id": "oph70P-uu27A"
      },
      "outputs": [
        {
          "name": "stdout",
          "output_type": "stream",
          "text": [
            "?\n"
          ]
        }
      ],
      "source": [
        "#indicates a special sequence\n",
        "result = re.search(r'\\?', 'Room ?')\n",
        "print(result.group())\n"
      ]
    },
    {
      "cell_type": "code",
      "execution_count": 64,
      "metadata": {
        "colab": {
          "base_uri": "https://localhost:8080/"
        },
        "id": "KdK7SdwCFLqv",
        "outputId": "4b6fcb09-1738-4cda-bfcd-9d2ae547ddd7"
      },
      "outputs": [
        {
          "name": "stdout",
          "output_type": "stream",
          "text": [
            "2\n"
          ]
        }
      ],
      "source": [
        "#Matches any decimal digit\n",
        "result = re.search(r'\\d', 'B2 is the room number')\n",
        "print(result.group())\n"
      ]
    },
    {
      "cell_type": "code",
      "execution_count": 65,
      "metadata": {
        "colab": {
          "base_uri": "https://localhost:8080/"
        },
        "id": "ayGyhDx1FNww",
        "outputId": "56ad44e6-3196-47b7-afe5-c29c0cbc6472"
      },
      "outputs": [
        {
          "name": "stdout",
          "output_type": "stream",
          "text": [
            "B\n"
          ]
        }
      ],
      "source": [
        "#Matches any non-digit character\n",
        "result = re.search(r'\\D', 'B2 is the room number')\n",
        "print(result.group())\n"
      ]
    },
    {
      "cell_type": "code",
      "execution_count": 66,
      "metadata": {
        "colab": {
          "base_uri": "https://localhost:8080/"
        },
        "id": "9UOwW8mmFQCe",
        "outputId": "dcb19540-3175-4b62-8ed5-240228e45c29"
      },
      "outputs": [
        {
          "name": "stdout",
          "output_type": "stream",
          "text": [
            "b \n"
          ]
        }
      ],
      "source": [
        "#Matches any whitespace character\n",
        "result = re.search(r'b\\s', 'a b c')\n",
        "print(result.group())\n"
      ]
    },
    {
      "cell_type": "code",
      "execution_count": 67,
      "metadata": {
        "colab": {
          "base_uri": "https://localhost:8080/"
        },
        "id": "qxUMYq6DFR3L",
        "outputId": "eb176133-b611-4be5-b011-8af53c82faa1"
      },
      "outputs": [
        {
          "name": "stdout",
          "output_type": "stream",
          "text": [
            "a\n"
          ]
        }
      ],
      "source": [
        "#Matches any non-whitespace character\n",
        "result = re.search(r'\\S', 'a bc')\n",
        "print(result.group())\n"
      ]
    },
    {
      "cell_type": "code",
      "execution_count": 71,
      "metadata": {
        "colab": {
          "base_uri": "https://localhost:8080/"
        },
        "id": "UH0NHOetFT4H",
        "outputId": "2f48ffc7-20af-4601-f259-049c98e317ab"
      },
      "outputs": [
        {
          "name": "stdout",
          "output_type": "stream",
          "text": [
            "a1\n"
          ]
        }
      ],
      "source": [
        "#Matches any alphanumeric character; equivalent to [a-zA-Z0-9_]\n",
        "result = re.search(r'\\w*', 'a1')\n",
        "print(result.group())\n"
      ]
    },
    {
      "cell_type": "code",
      "execution_count": 73,
      "metadata": {
        "colab": {
          "base_uri": "https://localhost:8080/"
        },
        "id": "kBVwVv3iFV2M",
        "outputId": "2a290e76-07be-415f-e824-e6a7dbba3285"
      },
      "outputs": [
        {
          "name": "stdout",
          "output_type": "stream",
          "text": [
            "!b\n"
          ]
        }
      ],
      "source": [
        "#Matches any non-alphanumeric character\n",
        "result = re.search(r'\\W\\w', 'a!b')\n",
        "print(result.group())\n"
      ]
    },
    {
      "cell_type": "code",
      "execution_count": null,
      "metadata": {
        "id": "TKMbDA1_FXuB"
      },
      "outputs": [],
      "source": []
    },
    {
      "cell_type": "code",
      "execution_count": null,
      "metadata": {
        "id": "_N7Gq8CLqMZY"
      },
      "outputs": [],
      "source": []
    }
  ],
  "metadata": {
    "colab": {
      "provenance": []
    },
    "kernelspec": {
      "display_name": "Python 3",
      "name": "python3"
    },
    "language_info": {
      "codemirror_mode": {
        "name": "ipython",
        "version": 3
      },
      "file_extension": ".py",
      "mimetype": "text/x-python",
      "name": "python",
      "nbconvert_exporter": "python",
      "pygments_lexer": "ipython3",
      "version": "3.10.14"
    }
  },
  "nbformat": 4,
  "nbformat_minor": 0
}
