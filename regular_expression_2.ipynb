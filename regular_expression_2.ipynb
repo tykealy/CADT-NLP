{
  "cells": [
    {
      "cell_type": "markdown",
      "metadata": {
        "id": "LjPGrWtU1TXN"
      },
      "source": [
        "**Regular Expression**"
      ]
    },
    {
      "cell_type": "code",
      "execution_count": 1,
      "metadata": {
        "id": "bM6otvnf1Gg4"
      },
      "outputs": [],
      "source": [
        "import re"
      ]
    },
    {
      "cell_type": "markdown",
      "metadata": {
        "id": "D0HCgILk2lwa"
      },
      "source": [
        "Here's a list of the most commonly used methods in the re module:"
      ]
    },
    {
      "cell_type": "code",
      "execution_count": 6,
      "metadata": {
        "colab": {
          "base_uri": "https://localhost:8080/"
        },
        "id": "hyT_BRJ11z7_",
        "outputId": "f0a953d4-365f-46ff-bae9-e66523c45d86"
      },
      "outputs": [
        {
          "name": "stdout",
          "output_type": "stream",
          "text": [
            "No match\n"
          ]
        }
      ],
      "source": [
        "match = re.match('there', 'Hie there!') #pattern, string\n",
        "if match:\n",
        "    print(\"Match found:\", match.group())\n",
        "else:\n",
        "    print(\"No match\")\n",
        "\n",
        "#This method checks if the beginning of a string matches the specified pattern."
      ]
    },
    {
      "cell_type": "code",
      "execution_count": 7,
      "metadata": {
        "colab": {
          "base_uri": "https://localhost:8080/"
        },
        "id": "jeyXwP4N1LkN",
        "outputId": "90915866-c038-415a-a2de-62d9424641fa"
      },
      "outputs": [
        {
          "name": "stdout",
          "output_type": "stream",
          "text": [
            "Search found: !\n"
          ]
        }
      ],
      "source": [
        "match = re.search('!', 'Hi there!')\n",
        "if match:\n",
        "    print(\"Search found:\", match.group())\n",
        "else:\n",
        "    print(\"No match found\")\n",
        "\n",
        "#Searches for the first occurrence of the pattern anywhere in the string."
      ]
    },
    {
      "cell_type": "code",
      "execution_count": 9,
      "metadata": {
        "colab": {
          "base_uri": "https://localhost:8080/"
        },
        "id": "zmBHAAOn3S-H",
        "outputId": "2250fc1f-5701-4693-a32b-3587d12ce6cc"
      },
      "outputs": [
        {
          "name": "stdout",
          "output_type": "stream",
          "text": [
            "All matches: ['an', 'an']\n"
          ]
        }
      ],
      "source": [
        "all_matches = re.findall('an', 'banana')\n",
        "print(\"All matches:\", all_matches)\n",
        "#Finds all non-overlapping occurrences of the pattern in the string and returns them as a list.\n",
        "#Example usage: Extracting all instances of a pattern from text, like all email addresses from a document."
      ]
    },
    {
      "cell_type": "code",
      "execution_count": 11,
      "metadata": {
        "colab": {
          "base_uri": "https://localhost:8080/"
        },
        "id": "JirTw59G3XEU",
        "outputId": "0fb3c80f-f58d-41f6-fb60-ce94f8e5e737"
      },
      "outputs": [
        {
          "name": "stdout",
          "output_type": "stream",
          "text": [
            "Found: n at: (2, 3)\n",
            "Found: n at: (3, 4)\n",
            "Found: n at: (5, 6)\n"
          ]
        }
      ],
      "source": [
        "for match in re.finditer('n', 'running'):\n",
        "    print('Found:', match.group(), 'at:', match.span())\n",
        "#Similar to findall, but returns an iterator yielding match objects instead of a list."
      ]
    },
    {
      "cell_type": "code",
      "execution_count": 15,
      "metadata": {
        "colab": {
          "base_uri": "https://localhost:8080/"
        },
        "id": "tvBOLxGN3Zld",
        "outputId": "f1011e94-877f-49a4-d9fc-cf7607c91d5b"
      },
      "outputs": [
        {
          "name": "stdout",
          "output_type": "stream",
          "text": [
            "Replaced string: red tk is tk\n"
          ]
        }
      ],
      "source": [
        "replaced_string = re.sub('sky', 'tk', 'red sky is sky',count=0) #re.sub(pattern, repl, string, count=0):\n",
        "print(\"Replaced string:\", replaced_string)\n",
        "#Replaces occurrences of the pattern in the string with a replacement string. count controls how many replacements are made (default is all occurrences).\n",
        "\n"
      ]
    },
    {
      "cell_type": "code",
      "execution_count": 18,
      "metadata": {
        "colab": {
          "base_uri": "https://localhost:8080/"
        },
        "id": "2GxA4P393e2a",
        "outputId": "1a86bca2-53e1-4fe4-9439-4f1e91196703"
      },
      "outputs": [
        {
          "name": "stdout",
          "output_type": "stream",
          "text": [
            "Split list: ['apples', 'oranges', 'bananas,grapes']\n"
          ]
        }
      ],
      "source": [
        "split_list = re.split(',', 'apples,oranges,bananas,grapes',maxsplit=2) #re.split(pattern, string, maxsplit=0):\n",
        "print(\"Split list:\", split_list)\n",
        "#Splits the string by occurrences of the pattern. maxsplit controls how many splits to do (default is as many as possible)."
      ]
    },
    {
      "cell_type": "code",
      "execution_count": 25,
      "metadata": {
        "colab": {
          "base_uri": "https://localhost:8080/"
        },
        "id": "9-DSc8WD3lwX",
        "outputId": "ba6b1267-40f2-46fb-fd3f-42437b45541a"
      },
      "outputs": [
        {
          "name": "stdout",
          "output_type": "stream",
          "text": [
            "No full match\n"
          ]
        }
      ],
      "source": [
        "match = re.fullmatch('test', 'teste test')\n",
        "if match:\n",
        "    print(\"Full match found:\", match.group())\n",
        "else:\n",
        "    print(\"No full match\")\n",
        "#Checks if the whole string matches the pattern, not just a part of it."
      ]
    },
    {
      "cell_type": "code",
      "execution_count": 26,
      "metadata": {
        "colab": {
          "base_uri": "https://localhost:8080/"
        },
        "id": "XBU3e99_7wOI",
        "outputId": "66e9dd45-2407-4fb7-9c85-a1770a4e5cdd"
      },
      "outputs": [
        {
          "name": "stdout",
          "output_type": "stream",
          "text": [
            "Compiled pattern found: ab\n"
          ]
        }
      ],
      "source": [
        "pattern = re.compile('ab') #re.compile(pattern)\n",
        "match = pattern.search('abcde')\n",
        "if match:\n",
        "    print(\"Compiled pattern found:\", match.group())\n",
        "#Compiles a regular expression pattern into a regular expression object, which can be used for matching. Useful for efficiency when the pattern will be used multiple times.\n",
        "#Example usage: Pre-compiling a pattern for repeated use in a loop."
      ]
    },
    {
      "cell_type": "code",
      "execution_count": null,
      "metadata": {},
      "outputs": [],
      "source": []
    }
  ],
  "metadata": {
    "colab": {
      "provenance": []
    },
    "kernelspec": {
      "display_name": "cadtml",
      "language": "python",
      "name": "python3"
    },
    "language_info": {
      "codemirror_mode": {
        "name": "ipython",
        "version": 3
      },
      "file_extension": ".py",
      "mimetype": "text/x-python",
      "name": "python",
      "nbconvert_exporter": "python",
      "pygments_lexer": "ipython3",
      "version": "3.10.14"
    }
  },
  "nbformat": 4,
  "nbformat_minor": 0
}
