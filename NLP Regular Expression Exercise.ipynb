{
  "cells": [
    {
      "cell_type": "markdown",
      "metadata": {
        "id": "_94BS6H1Wvi8"
      },
      "source": [
        "Exercise"
      ]
    },
    {
      "cell_type": "markdown",
      "metadata": {},
      "source": [
        "### GroupB\n",
        "### Name: Tykea Ly"
      ]
    },
    {
      "cell_type": "code",
      "execution_count": 1,
      "metadata": {},
      "outputs": [],
      "source": [
        "import re"
      ]
    },
    {
      "cell_type": "markdown",
      "metadata": {
        "id": "MG1Q-dKKahsX"
      },
      "source": [
        "1. **Email Extraction**"
      ]
    },
    {
      "cell_type": "code",
      "execution_count": 2,
      "metadata": {
        "id": "-IoX-__AXNge"
      },
      "outputs": [
        {
          "name": "stdout",
          "output_type": "stream",
          "text": [
            "info+-1@example.com\n",
            "support100%@company.org\n"
          ]
        }
      ],
      "source": [
        "def extract_emails(text):\n",
        "    pattern = r'\\b[a-zA-Z0-9_.+%-]+@[a-zA-Z0-9-]+\\.[a-zA-Z0-9-.]{2,}\\b'\n",
        "    return re.findall(pattern, text)\n",
        "\n",
        "text = \"Please contact us at info+-1@example.com or support100%@company.org.\"\n",
        "emails = extract_emails(text)\n",
        "# print(emails)\n",
        "for email in emails:\n",
        "    print(email)\n"
      ]
    },
    {
      "cell_type": "markdown",
      "metadata": {
        "id": "xA0jSqRYXFBg"
      },
      "source": [
        "**2. Email Validation in a List of Strings**"
      ]
    },
    {
      "cell_type": "code",
      "execution_count": 3,
      "metadata": {
        "id": "864t1KEOWxgC"
      },
      "outputs": [
        {
          "name": "stdout",
          "output_type": "stream",
          "text": [
            "Valid email: user@example.com\n",
            "Invalid email: invalid-email\n",
            "Valid email: Another_user@example.org\n",
            "Invalid email: test@invalid.\n",
            "Valid email: example@valid.co.uk\n"
          ]
        }
      ],
      "source": [
        "# Define a complex regex pattern for email validation\n",
        "email_pattern = re.compile(r'\\b[a-zA-Z0-9_.+%-]+@[a-zA-Z0-9-]+\\.[a-zA-Z0-9-.]{2,}\\b')\n",
        "\n",
        "# List of strings to be checked\n",
        "string_list = [\"user@example.com\", \"invalid-email\", \"Another_user@example.org\", \"test@invalid.\", \"example@valid.co.uk\"]\n",
        "\n",
        "# Check each string in the list whether it is a valid email or not\n",
        "def detect_invalid(emails):\n",
        "    for email in emails:\n",
        "        if not email_pattern.match(email):\n",
        "            print(\"Invalid email: \" + email)\n",
        "        else:\n",
        "            print(\"Valid email: \" + email)\n",
        "\n",
        "detect_invalid(string_list)\n",
        "\n"
      ]
    },
    {
      "cell_type": "markdown",
      "metadata": {
        "id": "NZfNyEd_rOrF"
      },
      "source": [
        "3. Hashtag Extractor for Social Media"
      ]
    },
    {
      "cell_type": "code",
      "execution_count": 4,
      "metadata": {
        "id": "p361cPb2beap"
      },
      "outputs": [
        {
          "name": "stdout",
          "output_type": "stream",
          "text": [
            "['sunny', 'California']\n"
          ]
        }
      ],
      "source": [
        "def extract_hashtags(text):\n",
        "    pattern = r'(?<=#)\\w+'  \n",
        "    hashtags = re.findall(pattern, text)\n",
        "    return hashtags\n",
        "\n",
        "sample_text = \"Loving the #sunny weather in #California!\"\n",
        "print(extract_hashtags(sample_text)) #should get sunny and California"
      ]
    },
    {
      "cell_type": "markdown",
      "metadata": {
        "id": "S9QlCb2rvD0P"
      },
      "source": [
        "4. Phone Number Formatter"
      ]
    },
    {
      "cell_type": "code",
      "execution_count": 5,
      "metadata": {
        "id": "IV4aGtFW3kn7"
      },
      "outputs": [
        {
          "name": "stdout",
          "output_type": "stream",
          "text": [
            "(123) 456-7890\n"
          ]
        }
      ],
      "source": [
        "def format_phone_number(number):\n",
        "    pattern = r'(\\d{3})(\\d{3})(\\d{4})'\n",
        "    replacement = r'(\\1) \\2-\\3'\n",
        "    formatted_number = re.sub(pattern, replacement, number)\n",
        "    return formatted_number\n",
        "\n",
        "print(format_phone_number(\"1234567890\"))  # Output: (123) 456-7890\n"
      ]
    },
    {
      "cell_type": "markdown",
      "metadata": {
        "id": "8wK70EQk3ULe"
      },
      "source": [
        "**5. Password Validation**"
      ]
    },
    {
      "cell_type": "code",
      "execution_count": 8,
      "metadata": {
        "id": "361DtSdE3QND"
      },
      "outputs": [
        {
          "name": "stdout",
          "output_type": "stream",
          "text": [
            "True\n"
          ]
        }
      ],
      "source": [
        "#The password must be at least 8 characters long. \n",
        "# It must contain at least one uppercase letter, one lowercase letter, and one number.\n",
        "def validate_password(password):\n",
        "    pattern = r'^(?=.*[a-z])(?=.*[A-Z])(?=.*\\d).{8,}$'   \n",
        "    return bool(re.search(pattern, password))\n",
        "\n",
        "password = \"P1s*9-D2\\\\*$@#@\"\n",
        "print(validate_password(password))  # True or False"
      ]
    },
    {
      "cell_type": "code",
      "execution_count": null,
      "metadata": {},
      "outputs": [],
      "source": []
    }
  ],
  "metadata": {
    "colab": {
      "provenance": []
    },
    "kernelspec": {
      "display_name": "Python 3",
      "name": "python3"
    },
    "language_info": {
      "codemirror_mode": {
        "name": "ipython",
        "version": 3
      },
      "file_extension": ".py",
      "mimetype": "text/x-python",
      "name": "python",
      "nbconvert_exporter": "python",
      "pygments_lexer": "ipython3",
      "version": "3.10.14"
    }
  },
  "nbformat": 4,
  "nbformat_minor": 0
}
